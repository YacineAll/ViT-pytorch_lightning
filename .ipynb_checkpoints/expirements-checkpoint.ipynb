{
 "cells": [
  {
   "cell_type": "code",
   "execution_count": 15,
   "id": "exclusive-florence",
   "metadata": {},
   "outputs": [],
   "source": [
    "import sys \n",
    "import os\n",
    "import argparse\n",
    "sys.path.append('./project/')\n",
    "sys.path.append(f'/users/Etu2/3701222/.local/lib/python3.7/site-packages')\n",
    "\n",
    "\n",
    "import pytorch_lightning as pl\n",
    "from vision_transformer_org import VisionTransformer\n",
    "from lightning_modules import CIFAR10DataModule, LitClassifierModel, load_from_checkpoint\n",
    "from pytorch_lightning.callbacks import ModelCheckpoint, LearningRateMonitor\n"
   ]
  },
  {
   "cell_type": "code",
   "execution_count": null,
   "id": "running-gender",
   "metadata": {},
   "outputs": [],
   "source": [
    "! mkdir -p /tmp/vit"
   ]
  },
  {
   "cell_type": "code",
   "execution_count": 19,
   "id": "distinguished-adult",
   "metadata": {},
   "outputs": [],
   "source": [
    "directory = \"/tmp/vit\"\n",
    "args = argparse.Namespace(\n",
    "    ##########useful args\n",
    "    fit=True,\n",
    "    default_root_dir=f\"{directory}/model\",\n",
    "    data_path=f\"{directory}/cifar10\",\n",
    "    gpus=-1,\n",
    "    ########Data Args##########\n",
    "    image_size=224,\n",
    "    num_classes=10,\n",
    "    ########Training Args##########\n",
    "    learning_rate=1e-4,\n",
    "    val_size=0.2,\n",
    "    batch_size=32,\n",
    "    num_workers=14,\n",
    "    #######Model args############\n",
    "    patch_size=32,\n",
    "    emb_dim=768,\n",
    "    mlp_dim=3072,\n",
    "    num_heads=12,\n",
    "    num_layers=12,\n",
    "    attn_dropout_rate=0.0,\n",
    "    dropout_rate=0.1,\n",
    "    ########Trainer Args##########\n",
    "    progress_bar_refresh_rate=25,\n",
    ")"
   ]
  },
  {
   "cell_type": "code",
   "execution_count": 22,
   "id": "wired-holocaust",
   "metadata": {},
   "outputs": [],
   "source": [
    "datamodule = CIFAR10DataModule(\n",
    "        data_dir=args.data_path,\n",
    "        image_size=args.image_size,\n",
    "        batch_size=args.batch_size,\n",
    "        num_workers=args.num_workers,\n",
    "        val_size=args.val_size\n",
    ")\n",
    "\n",
    "vit_Backbone = VisionTransformer(\n",
    "        image_size=(args.image_size, args.image_size),\n",
    "        patch_size=(args.patch_size, args.patch_size),\n",
    "        emb_dim=args.emb_dim,\n",
    "        mlp_dim=args.mlp_dim,\n",
    "        num_heads=args.num_heads,\n",
    "        num_layers=args.num_layers,\n",
    "        num_classes=args.num_classes,\n",
    "        attn_dropout_rate=args.attn_dropout_rate,\n",
    "        dropout_rate=args.dropout_rate,\n",
    ")\n",
    "\n",
    "checkpoint_callback = ModelCheckpoint(\n",
    "        monitor='val_acc',\n",
    "        filename='vit-{epoch:02d}-{val_loss:.2f}-{val_acc:.2f}',\n",
    "        mode='max',\n",
    ")\n",
    "lr_monitor = LearningRateMonitor(logging_interval='step')\n"
   ]
  },
  {
   "cell_type": "code",
   "execution_count": 23,
   "id": "happy-settle",
   "metadata": {},
   "outputs": [
    {
     "name": "stderr",
     "output_type": "stream",
     "text": [
      "GPU available: False, used: False\n",
      "TPU available: None, using: 0 TPU cores\n"
     ]
    }
   ],
   "source": [
    "trainer = pl.Trainer.from_argparse_args(args, callbacks=[checkpoint_callback, lr_monitor])"
   ]
  },
  {
   "cell_type": "code",
   "execution_count": 24,
   "id": "transparent-alloy",
   "metadata": {},
   "outputs": [],
   "source": [
    "model = LitClassifierModel(vit_Backbone, **vars(args))"
   ]
  },
  {
   "cell_type": "code",
   "execution_count": 25,
   "id": "twenty-program",
   "metadata": {},
   "outputs": [
    {
     "name": "stdout",
     "output_type": "stream",
     "text": [
      "Files already downloaded and verified\n",
      "Files already downloaded and verified\n"
     ]
    },
    {
     "name": "stderr",
     "output_type": "stream",
     "text": [
      "\n",
      "  | Name     | Type              | Params\n",
      "-----------------------------------------------\n",
      "0 | backbone | VisionTransformer | 41.6 K\n",
      "-----------------------------------------------\n",
      "41.6 K    Trainable params\n",
      "0         Non-trainable params\n",
      "41.6 K    Total params\n",
      "0.166     Total estimated model params size (MB)\n"
     ]
    },
    {
     "data": {
      "application/vnd.jupyter.widget-view+json": {
       "model_id": "f5b38b99eeb2420498ed6e673a51ba10",
       "version_major": 2,
       "version_minor": 0
      },
      "text/plain": [
       "HBox(children=(FloatProgress(value=1.0, bar_style='info', description='Validation sanity check', layout=Layout…"
      ]
     },
     "metadata": {},
     "output_type": "display_data"
    },
    {
     "data": {
      "application/vnd.jupyter.widget-view+json": {
       "model_id": "5581dcd637574bf09727d89fa4d47249",
       "version_major": 2,
       "version_minor": 0
      },
      "text/plain": [
       "HBox(children=(FloatProgress(value=1.0, bar_style='info', description='Training', layout=Layout(flex='2'), max…"
      ]
     },
     "metadata": {},
     "output_type": "display_data"
    },
    {
     "data": {
      "application/vnd.jupyter.widget-view+json": {
       "model_id": "",
       "version_major": 2,
       "version_minor": 0
      },
      "text/plain": [
       "HBox(children=(FloatProgress(value=1.0, bar_style='info', description='Validating', layout=Layout(flex='2'), m…"
      ]
     },
     "metadata": {},
     "output_type": "display_data"
    },
    {
     "name": "stdout",
     "output_type": "stream",
     "text": [
      "\n"
     ]
    },
    {
     "name": "stderr",
     "output_type": "stream",
     "text": [
      "/home/melissa/anaconda3/envs/main/lib/python3.8/site-packages/pytorch_lightning/utilities/distributed.py:49: UserWarning: Detected KeyboardInterrupt, attempting graceful shutdown...\n",
      "  warnings.warn(*args, **kwargs)\n"
     ]
    },
    {
     "data": {
      "text/plain": [
       "1"
      ]
     },
     "execution_count": 25,
     "metadata": {},
     "output_type": "execute_result"
    }
   ],
   "source": [
    "trainer.fit(model, datamodule)"
   ]
  },
  {
   "cell_type": "code",
   "execution_count": null,
   "id": "stretch-purchase",
   "metadata": {},
   "outputs": [],
   "source": [
    "trainer.test(model, datamodule=datamodule)"
   ]
  },
  {
   "cell_type": "code",
   "execution_count": null,
   "id": "severe-process",
   "metadata": {},
   "outputs": [],
   "source": []
  },
  {
   "cell_type": "code",
   "execution_count": null,
   "id": "selective-october",
   "metadata": {},
   "outputs": [],
   "source": []
  }
 ],
 "metadata": {
  "kernelspec": {
   "display_name": "Python 3",
   "language": "python",
   "name": "python3"
  },
  "language_info": {
   "codemirror_mode": {
    "name": "ipython",
    "version": 3
   },
   "file_extension": ".py",
   "mimetype": "text/x-python",
   "name": "python",
   "nbconvert_exporter": "python",
   "pygments_lexer": "ipython3",
   "version": "3.8.5"
  }
 },
 "nbformat": 4,
 "nbformat_minor": 5
}
