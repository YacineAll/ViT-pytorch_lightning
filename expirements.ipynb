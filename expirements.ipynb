{
 "cells": [
  {
   "cell_type": "code",
   "execution_count": 1,
   "id": "exclusive-florence",
   "metadata": {},
   "outputs": [],
   "source": [
    "import sys \n",
    "import os\n",
    "import argparse\n",
    "sys.path.append('./project/')\n",
    "sys.path.append(f'/users/Etu2/3701222/.local/lib/python3.7/site-packages')\n",
    "\n",
    "\n",
    "import pytorch_lightning as pl\n",
    "from vision_transformer_org import VisionTransformer\n",
    "from lightning_modules import CIFAR10DataModule, LitClassifierModel, load_from_checkpoint\n",
    "from pytorch_lightning.callbacks import ModelCheckpoint, LearningRateMonitor\n"
   ]
  },
  {
   "cell_type": "code",
   "execution_count": 2,
   "id": "running-gender",
   "metadata": {},
   "outputs": [],
   "source": [
    "! mkdir -p /home/melissa/Desktop/vit"
   ]
  },
  {
   "cell_type": "code",
   "execution_count": 8,
   "id": "distinguished-adult",
   "metadata": {},
   "outputs": [],
   "source": [
    "directory = \"/home/melissa/Desktop/vit\"\n",
    "\"\"\"\n",
    "args = argparse.Namespace(\n",
    "    ##########useful args\n",
    "    fit=True,\n",
    "    default_root_dir=f\"{directory}/model\",\n",
    "    data_path=f\"{directory}/cifar10\",\n",
    "    gpus=-1,\n",
    "    ########Data Args##########\n",
    "    image_size=224,\n",
    "    num_classes=10,\n",
    "    ########Training Args##########\n",
    "    learning_rate=1e-4,\n",
    "    val_size=0.2,\n",
    "    batch_size=32,\n",
    "    num_workers=14,\n",
    "    #######Model args############\n",
    "    patch_size=32,\n",
    "    emb_dim=768,\n",
    "    mlp_dim=3072,\n",
    "    num_heads=12,\n",
    "    num_layers=12,\n",
    "    attn_dropout_rate=0.0,\n",
    "    dropout_rate=0.1,\n",
    "    ########Trainer Args##########\n",
    "    progress_bar_refresh_rate=25,\n",
    ")\n",
    "\"\"\"\n",
    "args = argparse.Namespace(\n",
    "    ##########useful args\n",
    "    fit=True,\n",
    "    default_root_dir=f\"{directory}/model\",\n",
    "    data_dir=f\"{directory}/cifar10\",\n",
    "    gpus=0,\n",
    "    ########Data Args##########\n",
    "    image_size=32,\n",
    "    num_classes=10,\n",
    "    ########Training Args##########\n",
    "    learning_rate=1e-4,\n",
    "    val_size=0.2,\n",
    "    batch_size=32,\n",
    "    num_workers=14,\n",
    "    #######Model args############\n",
    "    patch_size=4,\n",
    "    emb_dim=64,\n",
    "    mlp_dim=128,\n",
    "    num_heads=8,\n",
    "    num_layers=1,\n",
    "    attn_dropout_rate=0.0,\n",
    "    dropout_rate=0.1,\n",
    "    embedding_mode=\"linear\",\n",
    "    ########Trainer Args##########\n",
    "    progress_bar_refresh_rate=25,\n",
    ")"
   ]
  },
  {
   "cell_type": "code",
   "execution_count": 9,
   "id": "wired-holocaust",
   "metadata": {},
   "outputs": [],
   "source": [
    "datamodule = CIFAR10DataModule(**vars(args))\n",
    "\n",
    "vit_Backbone = VisionTransformer(**vars(args))\n",
    "\n",
    "checkpoint_callback = ModelCheckpoint(\n",
    "        monitor='val_acc',\n",
    "        filename='vit-{epoch:02d}-{val_loss:.2f}-{val_acc:.2f}',\n",
    "        mode='max',\n",
    ")\n",
    "lr_monitor = LearningRateMonitor(logging_interval='step')\n"
   ]
  },
  {
   "cell_type": "code",
   "execution_count": null,
   "id": "digital-glucose",
   "metadata": {},
   "outputs": [],
   "source": []
  },
  {
   "cell_type": "code",
   "execution_count": 10,
   "id": "happy-settle",
   "metadata": {},
   "outputs": [
    {
     "name": "stderr",
     "output_type": "stream",
     "text": [
      "GPU available: False, used: False\n",
      "TPU available: None, using: 0 TPU cores\n"
     ]
    }
   ],
   "source": [
    "trainer = pl.Trainer.from_argparse_args(args, callbacks=[checkpoint_callback, lr_monitor])"
   ]
  },
  {
   "cell_type": "code",
   "execution_count": 11,
   "id": "transparent-alloy",
   "metadata": {},
   "outputs": [],
   "source": [
    "model = LitClassifierModel(vit_Backbone, **vars(args))"
   ]
  },
  {
   "cell_type": "code",
   "execution_count": null,
   "id": "twenty-program",
   "metadata": {},
   "outputs": [
    {
     "name": "stdout",
     "output_type": "stream",
     "text": [
      "Files already downloaded and verified\n",
      "Files already downloaded and verified\n"
     ]
    },
    {
     "name": "stderr",
     "output_type": "stream",
     "text": [
      "\n",
      "  | Name      | Type               | Params\n",
      "-------------------------------------------------\n",
      "0 | criterion | LabelSmoothingLoss | 0     \n",
      "1 | backbone  | VisionTransformer  | 41.6 K\n",
      "-------------------------------------------------\n",
      "41.6 K    Trainable params\n",
      "0         Non-trainable params\n",
      "41.6 K    Total params\n",
      "0.166     Total estimated model params size (MB)\n"
     ]
    },
    {
     "data": {
      "application/vnd.jupyter.widget-view+json": {
       "model_id": "00b455a81123470d80c4beab51c46f17",
       "version_major": 2,
       "version_minor": 0
      },
      "text/plain": [
       "HBox(children=(FloatProgress(value=1.0, bar_style='info', description='Validation sanity check', layout=Layout…"
      ]
     },
     "metadata": {},
     "output_type": "display_data"
    },
    {
     "data": {
      "application/vnd.jupyter.widget-view+json": {
       "model_id": "3787513d65624a7cbebb8b7a864d0955",
       "version_major": 2,
       "version_minor": 0
      },
      "text/plain": [
       "HBox(children=(FloatProgress(value=1.0, bar_style='info', description='Training', layout=Layout(flex='2'), max…"
      ]
     },
     "metadata": {},
     "output_type": "display_data"
    },
    {
     "data": {
      "application/vnd.jupyter.widget-view+json": {
       "model_id": "",
       "version_major": 2,
       "version_minor": 0
      },
      "text/plain": [
       "HBox(children=(FloatProgress(value=1.0, bar_style='info', description='Validating', layout=Layout(flex='2'), m…"
      ]
     },
     "metadata": {},
     "output_type": "display_data"
    },
    {
     "data": {
      "application/vnd.jupyter.widget-view+json": {
       "model_id": "",
       "version_major": 2,
       "version_minor": 0
      },
      "text/plain": [
       "HBox(children=(FloatProgress(value=1.0, bar_style='info', description='Validating', layout=Layout(flex='2'), m…"
      ]
     },
     "metadata": {},
     "output_type": "display_data"
    },
    {
     "data": {
      "application/vnd.jupyter.widget-view+json": {
       "model_id": "",
       "version_major": 2,
       "version_minor": 0
      },
      "text/plain": [
       "HBox(children=(FloatProgress(value=1.0, bar_style='info', description='Validating', layout=Layout(flex='2'), m…"
      ]
     },
     "metadata": {},
     "output_type": "display_data"
    },
    {
     "data": {
      "application/vnd.jupyter.widget-view+json": {
       "model_id": "",
       "version_major": 2,
       "version_minor": 0
      },
      "text/plain": [
       "HBox(children=(FloatProgress(value=1.0, bar_style='info', description='Validating', layout=Layout(flex='2'), m…"
      ]
     },
     "metadata": {},
     "output_type": "display_data"
    }
   ],
   "source": [
    "trainer.fit(model, datamodule)"
   ]
  },
  {
   "cell_type": "code",
   "execution_count": null,
   "id": "stretch-purchase",
   "metadata": {},
   "outputs": [],
   "source": [
    "trainer.test(model, datamodule=datamodule)"
   ]
  },
  {
   "cell_type": "code",
   "execution_count": null,
   "id": "severe-process",
   "metadata": {},
   "outputs": [],
   "source": []
  },
  {
   "cell_type": "code",
   "execution_count": null,
   "id": "continent-department",
   "metadata": {},
   "outputs": [],
   "source": []
  },
  {
   "cell_type": "code",
   "execution_count": null,
   "id": "significant-brain",
   "metadata": {},
   "outputs": [],
   "source": []
  },
  {
   "cell_type": "code",
   "execution_count": null,
   "id": "express-discretion",
   "metadata": {},
   "outputs": [],
   "source": []
  },
  {
   "cell_type": "code",
   "execution_count": null,
   "id": "working-auction",
   "metadata": {},
   "outputs": [],
   "source": []
  },
  {
   "cell_type": "code",
   "execution_count": null,
   "id": "identical-edmonton",
   "metadata": {},
   "outputs": [],
   "source": []
  },
  {
   "cell_type": "code",
   "execution_count": null,
   "id": "therapeutic-house",
   "metadata": {},
   "outputs": [],
   "source": []
  },
  {
   "cell_type": "code",
   "execution_count": null,
   "id": "concerned-strength",
   "metadata": {},
   "outputs": [],
   "source": []
  },
  {
   "cell_type": "code",
   "execution_count": null,
   "id": "selective-october",
   "metadata": {},
   "outputs": [],
   "source": []
  }
 ],
 "metadata": {
  "kernelspec": {
   "display_name": "Python 3",
   "language": "python",
   "name": "python3"
  },
  "language_info": {
   "codemirror_mode": {
    "name": "ipython",
    "version": 3
   },
   "file_extension": ".py",
   "mimetype": "text/x-python",
   "name": "python",
   "nbconvert_exporter": "python",
   "pygments_lexer": "ipython3",
   "version": "3.8.5"
  }
 },
 "nbformat": 4,
 "nbformat_minor": 5
}
