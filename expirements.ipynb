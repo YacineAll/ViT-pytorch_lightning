{
 "cells": [
  {
   "cell_type": "code",
   "execution_count": 3,
   "id": "middle-evaluation",
   "metadata": {},
   "outputs": [],
   "source": [
    "import sys \n",
    "sys.path.append('./project/')\n",
    "\n",
    "import pytorch_lightning as pl\n",
    "from vision_transformer_org import VisionTransformer\n",
    "from lightning_modules import CIFAR10DataModule, LitClassifierModel, load_from_checkpoint"
   ]
  },
  {
   "cell_type": "code",
   "execution_count": 14,
   "id": "timely-samuel",
   "metadata": {},
   "outputs": [
    {
     "name": "stdout",
     "output_type": "stream",
     "text": [
      "Global seed set to 42\n",
      "GPU available: False, used: False\n",
      "TPU available: None, using: 0 TPU cores\n",
      "Files already downloaded and verified\n",
      "Files already downloaded and verified\n",
      "2021-02-21 13:26:30.179742: W tensorflow/stream_executor/platform/default/dso_loader.cc:60] Could not load dynamic library 'libcudart.so.11.0'; dlerror: libcudart.so.11.0: cannot open shared object file: No such file or directory\n",
      "2021-02-21 13:26:30.179766: I tensorflow/stream_executor/cuda/cudart_stub.cc:29] Ignore above cudart dlerror if you do not have a GPU set up on your machine.\n",
      "\n",
      "  | Name     | Type              | Params\n",
      "-----------------------------------------------\n",
      "0 | backbone | VisionTransformer | 5.2 M \n",
      "-----------------------------------------------\n",
      "5.2 M     Trainable params\n",
      "0         Non-trainable params\n",
      "5.2 M     Total params\n",
      "20.743    Total estimated model params size (MB)\n",
      "Validation sanity check: 0it [00:00, ?it/s]^C\n",
      "Traceback (most recent call last):\n",
      "  File \"./project/main.py\", line 91, in <module>\n",
      "    cli_main()\n",
      "  File \"./project/main.py\", line 79, in cli_main\n",
      "    trainer.fit(model, datamodule)\n",
      "  File \"/home/melissa/anaconda3/envs/main/lib/python3.8/site-packages/pytorch_lightning/trainer/trainer.py\", line 483, in fit\n",
      "    results = self.accelerator_backend.train()\n",
      "  File \"/home/melissa/anaconda3/envs/main/lib/python3.8/site-packages/pytorch_lightning/accelerators/legacy/cpu_accelerator.py\", line 60, in train\n",
      "    results = self.train_or_test()\n",
      "  File \"/home/melissa/anaconda3/envs/main/lib/python3.8/site-packages/pytorch_lightning/accelerators/legacy/accelerator.py\", line 68, in train_or_test\n",
      "    results = self.trainer.train()\n",
      "  File \"/home/melissa/anaconda3/envs/main/lib/python3.8/site-packages/pytorch_lightning/trainer/trainer.py\", line 531, in train\n",
      "    self.run_sanity_check(self.get_model())\n",
      "  File \"/home/melissa/anaconda3/envs/main/lib/python3.8/site-packages/pytorch_lightning/trainer/trainer.py\", line 735, in run_sanity_check\n",
      "    _, eval_results = self.run_evaluation(test_mode=False, max_batches=self.num_sanity_val_batches)\n",
      "  File \"/home/melissa/anaconda3/envs/main/lib/python3.8/site-packages/pytorch_lightning/trainer/trainer.py\", line 633, in run_evaluation\n",
      "    for batch_idx, batch in enumerate(dataloader):\n",
      "  File \"/home/melissa/anaconda3/envs/main/lib/python3.8/site-packages/torch/utils/data/dataloader.py\", line 435, in __next__\n",
      "    data = self._next_data()\n",
      "  File \"/home/melissa/anaconda3/envs/main/lib/python3.8/site-packages/torch/utils/data/dataloader.py\", line 1068, in _next_data\n",
      "    idx, data = self._get_data()\n",
      "  File \"/home/melissa/anaconda3/envs/main/lib/python3.8/site-packages/torch/utils/data/dataloader.py\", line 1034, in _get_data\n",
      "    success, data = self._try_get_data()\n",
      "  File \"/home/melissa/anaconda3/envs/main/lib/python3.8/site-packages/torch/utils/data/dataloader.py\", line 872, in _try_get_data\n",
      "    data = self._data_queue.get(timeout=timeout)\n",
      "  File \"/home/melissa/anaconda3/envs/main/lib/python3.8/multiprocessing/queues.py\", line 107, in get\n",
      "    if not self._poll(timeout):\n",
      "  File \"/home/melissa/anaconda3/envs/main/lib/python3.8/multiprocessing/connection.py\", line 257, in poll\n",
      "    return self._poll(timeout)\n",
      "  File \"/home/melissa/anaconda3/envs/main/lib/python3.8/multiprocessing/connection.py\", line 424, in _poll\n",
      "    r = wait([self], timeout)\n",
      "  File \"/home/melissa/anaconda3/envs/main/lib/python3.8/multiprocessing/connection.py\", line 931, in wait\n",
      "    ready = selector.select(timeout)\n",
      "  File \"/home/melissa/anaconda3/envs/main/lib/python3.8/selectors.py\", line 415, in select\n",
      "    fd_event_list = self._selector.poll(timeout)\n",
      "KeyboardInterrupt\n"
     ]
    }
   ],
   "source": [
    "!python ./project/main.py --fit --default_root_dir \"/tmp/model\" --data_path \"/tmp/cifar10\" --progress_bar_refresh_rate 25"
   ]
  },
  {
   "cell_type": "code",
   "execution_count": null,
   "id": "african-salon",
   "metadata": {},
   "outputs": [],
   "source": []
  },
  {
   "cell_type": "code",
   "execution_count": null,
   "id": "happy-secretariat",
   "metadata": {},
   "outputs": [],
   "source": []
  },
  {
   "cell_type": "code",
   "execution_count": null,
   "id": "following-compatibility",
   "metadata": {},
   "outputs": [],
   "source": []
  }
 ],
 "metadata": {
  "kernelspec": {
   "display_name": "Python 3",
   "language": "python",
   "name": "python3"
  },
  "language_info": {
   "codemirror_mode": {
    "name": "ipython",
    "version": 3
   },
   "file_extension": ".py",
   "mimetype": "text/x-python",
   "name": "python",
   "nbconvert_exporter": "python",
   "pygments_lexer": "ipython3",
   "version": "3.8.5"
  }
 },
 "nbformat": 4,
 "nbformat_minor": 5
}
